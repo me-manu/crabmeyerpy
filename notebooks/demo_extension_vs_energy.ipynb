{
 "cells": [
  {
   "cell_type": "markdown",
   "metadata": {},
   "source": [
    "# Calculating and testing extension calculation\n"
   ]
  },
  {
   "cell_type": "code",
   "execution_count": 1,
   "metadata": {},
   "outputs": [],
   "source": [
    "import sys\n",
    "sys.path.append(\"/Users/manuelmeyer/Python/crabmeyerpy/\")\n",
    "sys.path.append(\"/Users/manuelmeyer/Python/fast_interp/\")"
   ]
  },
  {
   "cell_type": "code",
   "execution_count": null,
   "metadata": {},
   "outputs": [],
   "source": [
    "from crabmeyerpy.ssc import kpc2cm, m_e_eV, arcmin2rad, eV2erg, eV2Hz, CrabSSC\n",
    "from crabmeyerpy.ssc_3d import CrabSSC3D\n",
    "from crabmeyerpy.electrondensity import nel_crab, nel_crab_extension\n",
    "from crabmeyerpy.photonfields import black_body, j_dust_carbon_shell\n",
    "from crabmeyerpy.data import CrabData\n",
    "from scipy.integrate import simps, romb\n",
    "from nonthermal.sync import Esync_peak, gamma_sync_peak\n",
    "import matplotlib.pyplot as plt\n",
    "import numpy as np\n",
    "import logging\n",
    "import copy\n",
    "import astropy.constants as c\n",
    "import astropy.units as u\n",
    "import time\n",
    "import os\n",
    "from scipy.interpolate import RectBivariateSpline, UnivariateSpline"
   ]
  },
  {
   "cell_type": "code",
   "execution_count": null,
   "metadata": {},
   "outputs": [],
   "source": [
    "%load_ext autoreload\n",
    "%autoreload 2"
   ]
  },
  {
   "cell_type": "markdown",
   "metadata": {},
   "source": [
    "# 3D model\n",
    "\n",
    "Initialize the 3D model"
   ]
  },
  {
   "cell_type": "code",
   "execution_count": null,
   "metadata": {},
   "outputs": [],
   "source": [
    "#The magnetic field strength and the distance to the nebula\n",
    "B = 124e-6  # B Field in G\n",
    "d = 2.  # distance to nebula in kpc"
   ]
  },
  {
   "cell_type": "code",
   "execution_count": null,
   "metadata": {},
   "outputs": [],
   "source": [
    "# config to match 1D case\n",
    "config = {\n",
    "    # electron spectrum parameters\n",
    "    \"Nradio\": np.exp(-9.5) * 1.3, # these are just some scalings\n",
    "    \"gradio_min\": np.exp(3.1),\n",
    "    \"gradio_max\": np.exp(12.1),\n",
    "    \"Sradio\": -1.60,\n",
    "    \"Nwind\": np.exp(-48.) * 2, # these are just some scalings\n",
    "    \"gmin\": np.exp(3.1),\n",
    "    \"gmax\": np.exp(30.),\n",
    "    \"gwind_min\": np.exp(13.1),\n",
    "    \"gwind_max\": np.exp(22.6),\n",
    "    \"gwind_b\": 1. / np.exp(19.5),\n",
    "    \"Swind\": -2.85,\n",
    "    \"Sbreak\": -0.6, \n",
    "    \"sup_wind\": 2.8,\n",
    "    # spatial parameters, this is new\n",
    "    \"radio_size_cm\": np.tan(1.35 * arcmin2rad) * d * kpc2cm ,  # constant size of Gaussian below gamma_br_constant in arcmin \n",
    "    \"index\": -0.14,  # power-law index of energy dependency\n",
    "    # new dust model parameters\n",
    "    'dust_T1': 151.,\n",
    "    'dust_T2': 37.,\n",
    "    'log10_M1': -4.37,\n",
    "    'log10_M2': -1.1,\n",
    "    'abs_norm': 2.15e4,\n",
    "    'abs_index': 1.3,\n",
    "    'r_min': 0.55 / 1e3 * kpc2cm,\n",
    "    'r_max': 1.5 / 1e3 * kpc2cm,\n",
    "    \"ic_sync\": True, \n",
    "    \"ic_dust\": True,\n",
    "    \"ic_cmb\": True,\n",
    "    \"B\": B\n",
    "}"
   ]
  },
  {
   "cell_type": "markdown",
   "metadata": {},
   "source": [
    "Some tuned values to fit the extension in sync"
   ]
  },
  {
   "cell_type": "code",
   "execution_count": null,
   "metadata": {},
   "outputs": [],
   "source": [
    "# config to match 1D case\n",
    "config = {\n",
    "    # electron spectrum parameters\n",
    "    \"Nradio\": np.exp(-9.5) * 1.3, # these are just some scalings\n",
    "    \"gradio_min\": np.exp(3.1),\n",
    "    \"gradio_max\": np.exp(12.1),\n",
    "    \"Sradio\": -1.60,\n",
    "    \"Nwind\": np.exp(-48.) * 2, # these are just some scalings\n",
    "    \"gmin\": np.exp(3.1),\n",
    "    \"gmax\": np.exp(30.),\n",
    "    \"gwind_min\": np.exp(13.1),\n",
    "    \"gwind_max\": np.exp(22.6),\n",
    "    \"gwind_b\": 1. / np.exp(19.5),\n",
    "    \"Swind\": -2.85,\n",
    "    \"Sbreak\": -0.6, \n",
    "    \"sup_wind\": 2.8,\n",
    "    # spatial parameters, this is new\n",
    "    \"radio_size_cm\": np.tan(1.35 * arcmin2rad) * d * kpc2cm ,  # constant size of Gaussian below gamma_br_constant in arcmin \n",
    "    \"index\": -0.17,  # power-law index of energy dependency\n",
    "    # new dust model parameters\n",
    "    'dust_T1': 151.,\n",
    "    'dust_T2': 37.,\n",
    "    'log10_M1': -4.37,\n",
    "    'log10_M2': -1.1,\n",
    "    'abs_norm': 2.15e4,\n",
    "    'abs_index': 1.3,\n",
    "    'r_min': 0.55 / 1e3 * kpc2cm,\n",
    "    'r_max': 1.5 / 1e3 * kpc2cm,\n",
    "    \"ic_sync\": True, \n",
    "    \"ic_dust\": True,\n",
    "    \"ic_cmb\": True,\n",
    "    \"B\": B\n",
    "}"
   ]
  },
  {
   "cell_type": "code",
   "execution_count": null,
   "metadata": {},
   "outputs": [],
   "source": [
    "# maximum radius of nebula\n",
    "# This number should probably be updated to newer values\n",
    "# it comes from Atoyan & Aharonian 1996\n",
    "r0_pc = 1.8\n",
    "r0_pc = 4 * 1.8"
   ]
  },
  {
   "cell_type": "markdown",
   "metadata": {},
   "source": [
    "### Read in some extension data"
   ]
  },
  {
   "cell_type": "code",
   "execution_count": null,
   "metadata": {},
   "outputs": [],
   "source": [
    "# read in parameters from Tim\n",
    "in_dir = \"/Users/manuelmeyer/Dropbox/Projects/Crab/data4Manuel/\"\n",
    "\n",
    "#config = np.load(os.path.join(in_dir, \"04_all_gaussradio_newdust.npy\"), allow_pickle=True).flat[0]  #KC model\n",
    "#config = np.load(os.path.join(in_dir, \"v18_hess1+2+mono_newdust_08.npy\"), allow_pickle=True).flat[0]  # const B model\n",
    "\n",
    "# Dieter's crab points\n",
    "ext_horns=np.loadtxt(os.path.join(in_dir, 'Crab_ext_Horns_erratum.txt'), delimiter=';')\n",
    "\n",
    "x_horns=(ext_horns[:,0]*u.GeV).to_value(\"TeV\")\n",
    "\n",
    "fac=np.sqrt(x_horns[1:] / x_horns[:-1])\n",
    "facs=np.array([1.40251572, 1.40251572, 1.41, 1.415, 1.4, 1.39 , 3, 4])\n",
    "\n",
    "x_err_horns_p=(facs-1)*x_horns\n",
    "x_err_horns_n=x_horns*(1-1/facs)\n",
    "\n",
    "sig_horns=(ext_horns[:,1]*u.deg)#.to_value(\"arcmin\")\n",
    "err_p_horns=(ext_horns[:,2]*u.deg-sig_horns).to_value(\"arcmin\")\n",
    "err_n_horns=(sig_horns-ext_horns[:,3]*u.deg).to_value(\"arcmin\")\n",
    "\n",
    "radio_extensions=np.loadtxt(os.path.join(in_dir,\"radio_extensions.txt\"), usecols=[0,1,2]) # freq, r68, err r68\n",
    "radio_extensions[:,0] *= (c.h*u.Hz).to_value('TeV') # convert freq to TeV"
   ]
  },
  {
   "cell_type": "code",
   "execution_count": null,
   "metadata": {},
   "outputs": [],
   "source": [
    "def plot_data(ax=None, y_unit=\"arcmin\", x_unit=\"TeV\"):\n",
    "    if ax is None:\n",
    "        ax = plt.gca()\n",
    "    ax.errorbar(x_horns * u.TeV.to(x_unit),\n",
    "                sig_horns.to_value(y_unit),\n",
    "                xerr=[x_err_horns_n * u.TeV.to(x_unit), x_err_horns_p * u.TeV.to(x_unit)],\n",
    "                yerr=[err_n_horns * u.arcmin.to(y_unit), err_p_horns * u.arcmin.to(y_unit)],\n",
    "                ls=\"none\", marker=\"o\")\n",
    "    ax.set_xscale(\"log\")\n",
    "\n",
    "    ax.errorbar(radio_extensions[:,0] * u.TeV.to(x_unit),\n",
    "                radio_extensions[:,1] * u.arcsec.to(y_unit),\n",
    "                yerr=radio_extensions[:,2] * u.arcsec.to(y_unit),\n",
    "                ls=\"none\", marker=\"o\")\n",
    "    ax.set_xlabel(f\"Energy ({x_unit})\")\n",
    "    ax.set_ylabel(f\"$r_{{68}}$ ({y_unit})\")\n",
    "    \n",
    "plot_data()"
   ]
  },
  {
   "cell_type": "markdown",
   "metadata": {},
   "source": [
    "### Define the electron spectrum"
   ]
  },
  {
   "cell_type": "code",
   "execution_count": null,
   "metadata": {},
   "outputs": [],
   "source": [
    "# the assumed electron spectrum\n",
    "def n_el_spec(gamma, r, **params):\n",
    "    return nel_crab(gamma, **params) * nel_crab_extension(r, gamma, **params)\n",
    "\n",
    "# the assumed radial dependence of the magnetic field\n",
    "def const_B(r, **params):\n",
    "    result = np.full(r.shape, params['B'])\n",
    "    return result"
   ]
  },
  {
   "cell_type": "markdown",
   "metadata": {},
   "source": [
    "Initialize the model"
   ]
  },
  {
   "cell_type": "code",
   "execution_count": null,
   "metadata": {},
   "outputs": [],
   "source": [
    "ssc = CrabSSC3D(copy.deepcopy(config), n_el_spec, const_B, j_dust_carbon_shell, d_kpc=d, r0_pc=r0_pc, log_level=\"DEBUG\", \n",
    "                ic_sync=True, ic_cmb=True, ic_dust=True)"
   ]
  },
  {
   "cell_type": "code",
   "execution_count": null,
   "metadata": {},
   "outputs": [],
   "source": [
    "print(np.arctan(config['radio_size_cm'] / ssc.d) / arcmin2rad)  # radio size in arcmin\n",
    "print(config['radio_size_cm'] / kpc2cm * 1e3)  # radio size in pc\n",
    "print(ssc.theta_max_arcmin(), ssc.r0, ssc.d)   # maximum extension of nebule (given by r0 and d), r0, d"
   ]
  },
  {
   "cell_type": "markdown",
   "metadata": {
    "tags": []
   },
   "source": [
    "## Calculate the full SED\n",
    "\n",
    "Do one pass of the full SED calculation."
   ]
  },
  {
   "cell_type": "code",
   "execution_count": null,
   "metadata": {},
   "outputs": [],
   "source": [
    "# define r and nu arrays\n",
    "r = np.linspace(0., ssc.r0, 10)\n",
    "nu_all = np.logspace(7., 31., 300)\n",
    "\n",
    "nu_sync = nu_all[nu_all <=1e25]\n",
    "nu_ic = nu_all[nu_all >= 1e20]\n",
    "\n",
    "# steps for intensity and flux \n",
    "# in radial distance\n",
    "theta_steps = 20"
   ]
  },
  {
   "cell_type": "code",
   "execution_count": null,
   "metadata": {},
   "outputs": [],
   "source": [
    "# Calculate and interpolate the synchrotron spectrum\n",
    "ssc.use_fast_interp = True  # use a 2D interpolation routine using numba\n",
    "ssc.interp_sync_init(r_min=r.min(), r_max=r.max())"
   ]
  },
  {
   "cell_type": "code",
   "execution_count": null,
   "metadata": {},
   "outputs": [],
   "source": [
    "# Calculate the intensities along the line of sight\n",
    "I_nu_sync, theta_arcmin, _ = ssc.intensity2(nu_sync, theta=theta_steps)\n",
    "I_nu_dust, _, _ = ssc.intensity2(nu_sync, theta=theta_steps, which='dust')\n",
    "\n",
    "print(\"theta_arcmin:\", theta_arcmin)\n",
    "\n",
    "\n",
    "# Calculate the fluxes\n",
    "f_nu_sync = ssc.flux(nu_sync, theta_edges=[theta_arcmin[0], theta_arcmin[-1]],\n",
    "                     which='sync',\n",
    "                     integration_mode='romb',\n",
    "                     theta_steps=33)\n",
    "\n",
    "f_nu_dust = ssc.flux(nu_sync, theta_edges=[theta_arcmin[0], theta_arcmin[-1]],\n",
    "                     which='dust',\n",
    "                     integration_mode='romb',\n",
    "                     theta_steps=33)"
   ]
  },
  {
   "cell_type": "markdown",
   "metadata": {},
   "source": [
    "#### IC component"
   ]
  },
  {
   "cell_type": "code",
   "execution_count": null,
   "metadata": {},
   "outputs": [],
   "source": [
    "# Calculate the IC emissivity\n",
    "r_ic_egdes = np.linspace(0., ssc.r0, 33)\n",
    "r_ic = 0.5 * (r_ic_egdes[1:] + r_ic_egdes[:-1])\n",
    "\n",
    "g_steps = 129  # steps for integration over gamma\n",
    "e_steps = 129  # steps for integration over energy of seed photon field\n",
    "r1_steps = 65   # steps for integration over radius, see Atoyan & Aharonian (1996) Eq. 15\n",
    "\n",
    "ssc.integration_mode = 'numba_piecewise'  # fastest option\n",
    "ssc.use_fast_interp = True  # fastest mode of interpolation\n",
    "\n",
    "j_nu_ic = ssc.j_ic(nu_ic, r_ic,\n",
    "                   g_steps=g_steps,\n",
    "                   e_steps=e_steps,\n",
    "                   r1_steps=r1_steps)"
   ]
  },
  {
   "cell_type": "code",
   "execution_count": null,
   "metadata": {},
   "outputs": [],
   "source": [
    "# calculate the intensity along the line of sight\n",
    "I_nu_ic, _, _ = ssc.intensity2(nu_ic, theta=theta_steps, which='ic')\n",
    "\n",
    "# calculate the IC flux\n",
    "f_nu_ic = ssc.flux(nu_ic, theta_edges=[theta_arcmin[0], theta_arcmin[-1]],\n",
    "                   which='ic',\n",
    "                   integration_mode='romb',\n",
    "                   r_steps=65,\n",
    "                   theta_steps=65)"
   ]
  },
  {
   "cell_type": "code",
   "execution_count": null,
   "metadata": {},
   "outputs": [],
   "source": [
    "# plotting function to show full sed\n",
    "def plot_full_sed(luminosity=True, ic=True, sync=True, dust=True, total=True, dpi=150, fig=None, ax=None):\n",
    "    if fig is None:\n",
    "        fig = plt.figure(dpi=dpi)\n",
    "\n",
    "    if ax is None:\n",
    "        ax = fig.add_subplot(111)\n",
    "        \n",
    "    if luminosity:\n",
    "        const = 4. * np.pi * (d * kpc2cm)**2\n",
    "    else:\n",
    "        const = 1.\n",
    "\n",
    "    if sync:\n",
    "        ax.loglog(nu_sync, f_nu_sync * nu_sync * const, ls='-', label=\"Sync.\")\n",
    "    if dust:\n",
    "        ax.loglog(nu_sync, f_nu_dust * nu_sync * const, ls='--', label=\"Dust\")\n",
    "    if ic:\n",
    "        ax.loglog(nu_ic, f_nu_ic * nu_ic * const, ls='-', label=\"IC\")\n",
    "    if total:\n",
    "        f_all = np.zeros_like(nu_all)\n",
    "        m_sync = nu_all <= nu_sync[-1]\n",
    "        m_ic = nu_all >= nu_ic[0]\n",
    "        \n",
    "        f_all[m_sync] += f_nu_sync\n",
    "        f_all[m_sync] += f_nu_dust\n",
    "        f_all[m_ic] += f_nu_ic\n",
    "        \n",
    "        ax.loglog(nu_all, f_all * nu_all * const, ls='-', label=\"Total\")\n",
    "    \n",
    "    if luminosity:\n",
    "        ax.set_ylim(1e33,3e37)\n",
    "        ax.set_ylabel(r\"$\\nu L_\\nu\\,(\\mathrm{erg}\\,\\mathrm{s}^{-1}$)\")    \n",
    "\n",
    "    else:\n",
    "        ax.set_ylim(1e-13, 1e-7)\n",
    "        ax.set_ylabel(r\"$\\nu F_\\nu\\,(\\mathrm{erg}\\,\\mathrm{cm}^{-2}\\,\\mathrm{s}^{-1}$)\")    \n",
    "        \n",
    "    ax.set_xlim(1e7,1e29)\n",
    "    ax2 = ax.twiny()\n",
    "    ax2.set_xlim(1e7 * c.h.to(\"eV s\").value, 1e29 * c.h.to(\"eV s\").value)\n",
    "    ax2.set_xscale(\"log\")\n",
    "    ax.set_xlabel(\"Frequency (Hz)\")\n",
    "    ax2.set_xlabel(\"Energy (eV)\")\n",
    "    return fig, ax\n",
    "\n",
    "fig, ax = plot_full_sed()\n",
    "ax.legend()\n"
   ]
  },
  {
   "cell_type": "markdown",
   "metadata": {},
   "source": [
    "## The predicted extension\n",
    "\n",
    "The next cells demonstrate how we can calculate the 68% extension radius. "
   ]
  },
  {
   "cell_type": "code",
   "execution_count": null,
   "metadata": {},
   "outputs": [],
   "source": [
    "# intensity form factor for different frequencies\n",
    "\n",
    "plt.figure(dpi=150)\n",
    "for i, n in enumerate(nu_sync[:-10]):\n",
    "    if i % 5:\n",
    "        continue\n",
    "        \n",
    "    plt.plot(theta_arcmin, I_nu_sync[i, :] / I_nu_sync[i, 0],\n",
    "               color=plt.cm.plasma(i / float(nu_ic.size)),\n",
    "               label=r\"$\\nu={0:.1e}$\".format(n),\n",
    "               lw=1\n",
    "            )\n",
    "\n",
    "plt.title(\"Synchrotron\")\n",
    "plt.legend(ncol=3, fontsize='xx-small')\n",
    "plt.xlabel(r\"$\\theta$ (arcmin)\")\n",
    "plt.ylabel(r\"$I_\\nu / I_\\nu(\\theta = 0^\\circ)$\")"
   ]
  },
  {
   "cell_type": "code",
   "execution_count": null,
   "metadata": {},
   "outputs": [],
   "source": [
    "# plot a 2D version of the intensity\n",
    "plt.figure(dpi=100)\n",
    "im = plt.pcolormesh(theta_arcmin, nu_sync, (I_nu_sync.T / I_nu_sync[:,0]).T, cmap=\"cividis\", shading=\"auto\")\n",
    "plt.colorbar(im, label=r\"$I_\\nu(\\theta) / I_{\\nu}(\\theta=0)$\")\n",
    "plt.yscale(\"log\")"
   ]
  },
  {
   "cell_type": "code",
   "execution_count": null,
   "metadata": {},
   "outputs": [],
   "source": [
    "#Interpolate the intensity\n",
    "m = nu_sync < 1e24\n",
    "I_nu_sync_interp = RectBivariateSpline(np.log10(nu_sync[m]), theta_arcmin, np.log10(I_nu_sync[m,:]), kx=2, ky=2)"
   ]
  },
  {
   "cell_type": "code",
   "execution_count": null,
   "metadata": {},
   "outputs": [],
   "source": [
    "# test the interpolation\n",
    "plt.figure(dpi=100)\n",
    "t_test = np.linspace(theta_arcmin[0], theta_arcmin[-1], 500)\n",
    "log_nu_test = np.linspace(np.log10(nu_sync[m])[0], np.log10(nu_sync[m])[-1], 501)\n",
    "\n",
    "Iinterp = 10.**I_nu_sync_interp(log_nu_test, t_test)\n",
    "\n",
    "im = plt.pcolormesh(t_test, 10.**log_nu_test, (Iinterp.T / Iinterp[:,0]).T, cmap=\"cividis\", shading=\"auto\")\n",
    "plt.colorbar(im, label=r\"$I_\\nu(\\theta) / I_{\\nu}(\\theta=0)$\")\n",
    "plt.yscale(\"log\")"
   ]
  },
  {
   "cell_type": "code",
   "execution_count": null,
   "metadata": {},
   "outputs": [],
   "source": [
    "# calculate the fluxes between theta bounds,\n",
    "# assuming I to be constant within bounds\n",
    "dtheta = t_test[1:] - t_test[:-1]\n",
    "theta_cen = 0.5 * (t_test[1:] + t_test[:-1])\n",
    "f_interp = 0.5 * (Iinterp[:,1:] + Iinterp[:,:-1])  * dtheta\n",
    "f_interp *= np.cos(theta_cen * arcmin2rad) * np.sin(theta_cen * arcmin2rad)\n",
    "\n",
    "# compute CDF\n",
    "cdf_interp = np.cumsum(f_interp, axis=1)\n",
    "cdf_interp = (cdf_interp.T - cdf_interp.min(axis=1)).T\n",
    "cdf_interp = (cdf_interp.T / cdf_interp.max(axis=1)).T\n",
    "\n",
    "print(cdf_interp.shape)"
   ]
  },
  {
   "cell_type": "code",
   "execution_count": null,
   "metadata": {},
   "outputs": [],
   "source": [
    "# plot for checking\n",
    "for i in range(cdf_interp.shape[0]):\n",
    "    plt.plot(t_test[1:], cdf_interp[i], color=plt.cm.plasma(i / cdf_interp.shape[0]))\n",
    "plt.xlabel(\"$\\theta$ (arcmin)\")\n",
    "plt.ylabel(\"CDF\")"
   ]
  },
  {
   "cell_type": "code",
   "execution_count": null,
   "metadata": {},
   "outputs": [],
   "source": [
    "# compute 68% quantile from nearest index\n",
    "idx68 = np.argmin(np.abs(cdf_interp - 0.68), axis=1)"
   ]
  },
  {
   "cell_type": "code",
   "execution_count": null,
   "metadata": {},
   "outputs": [],
   "source": [
    "# the final result and comparison to data\n",
    "plt.figure(dpi=100)\n",
    "plt.semilogx(10.**log_nu_test / eV2Hz, t_test[idx68])\n",
    "plot_data(x_unit=\"eV\")"
   ]
  },
  {
   "cell_type": "markdown",
   "metadata": {},
   "source": [
    "### Do the same steps but from a function of `ssc`\n",
    "\n",
    "Now we perform the same steps for both the synchrotron and IC part but using a built-in function of the `ssc` object. "
   ]
  },
  {
   "cell_type": "code",
   "execution_count": null,
   "metadata": {},
   "outputs": [],
   "source": [
    "nu68_sync, r68_sync = ssc.ext68(nu_sync, which='sync', theta_steps_interp=4 * 500)\n",
    "nu68_ic, r68_ic = ssc.ext68(nu_ic, which='ic', theta_steps_interp=4 * 500)"
   ]
  },
  {
   "cell_type": "code",
   "execution_count": null,
   "metadata": {},
   "outputs": [],
   "source": [
    "# compare the results\n",
    "plt.figure(dpi=100)\n",
    "plt.semilogx(nu68_sync / eV2Hz, r68_sync)\n",
    "plt.semilogx(10.**log_nu_test / eV2Hz, t_test[idx68], ls='--')\n",
    "plt.semilogx(nu68_ic / eV2Hz, r68_ic)\n",
    "\n",
    "plot_data(x_unit=\"eV\")"
   ]
  }
 ],
 "metadata": {
  "kernelspec": {
   "display_name": "Python [conda env:basic]",
   "language": "python",
   "name": "conda-env-basic-py"
  },
  "language_info": {
   "codemirror_mode": {
    "name": "ipython",
    "version": 3
   },
   "file_extension": ".py",
   "mimetype": "text/x-python",
   "name": "python",
   "nbconvert_exporter": "python",
   "pygments_lexer": "ipython3",
   "version": "3.9.6"
  }
 },
 "nbformat": 4,
 "nbformat_minor": 4
}
